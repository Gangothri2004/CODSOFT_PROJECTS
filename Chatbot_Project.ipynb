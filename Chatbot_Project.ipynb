{
 "cells": [
  {
   "cell_type": "markdown",
   "metadata": {
    "colab_type": "text",
    "id": "view-in-github"
   },
   "source": [
    "<a href=\"https://colab.research.google.com/github/virajbhutada/CODSOFT/blob/main/Codsoft_Task1_Chatbot_Project_Colab.ipynb\" target=\"_parent\"><img src=\"https://colab.research.google.com/assets/colab-badge.svg\" alt=\"Open In Colab\"/></a>"
   ]
  },
  {
   "cell_type": "markdown",
   "metadata": {
    "id": "nbG_ivgmapS4"
   },
   "source": [
    "# **Step 1: Import Required Libraries**"
   ]
  },
  {
   "cell_type": "code",
   "execution_count": 1,
   "metadata": {
    "id": "A4_W6m_6UegV"
   },
   "outputs": [],
   "source": [
    "# Import the 're' module for regular expressions\n",
    "import re"
   ]
  },
  {
   "cell_type": "markdown",
   "metadata": {
    "id": "H5PhNOQ4UXN6"
   },
   "source": [
    "# **Step 2: Define Predefined Rules and Responses**"
   ]
  },
  {
   "cell_type": "code",
   "execution_count": 2,
   "metadata": {
    "id": "NcCyiJeUUggk"
   },
   "outputs": [],
   "source": [
    "# Predefined rules and responses\n",
    "rules = {\n",
    "    r'.*(hi|hello|hey|greetings).*': ['Hello!', 'Hi there!', 'Hey!'],\n",
    "    r'.*(how are you|how are you doing|what\\'s up|how\\'s it going).*': ['I am just a computer program, so I don\\'t have feelings, but I\\'m here to assist you!', 'I don\\'t have feelings, but I\\'m here and ready to help!'],\n",
    "    r'.*(bye|goodbye|see you|farewell).*': ['Goodbye!', 'See you later!', 'Have a great day!'],\n",
    "    r'.*(name|your name|who are you).*': ['I am a chatbot created by Codsoft AI Intern, Viraj N. Bhutada.'],\n",
    "    r'.*(help me|assist me).*': ['Of course! I\\'m here to help. What do you need assistance with?', 'Certainly! I can assist you. What do you need help with?'],\n",
    "    r'.*(joke|tell me a joke).*': [\n",
    "        'Sure, here\\'s a joke: Why did the chicken cross the road? To get to the other side!',\n",
    "        'Here\\'s one: Why don\\'t scientists trust atoms? Because they make up everything!',\n",
    "        'How about this one: Did you hear about the mathematician who’s afraid of negative numbers? He will stop at nothing to avoid them!'\n",
    "    ],\n",
    "    r'.*(thanks|thank you|appreciate it).*': ['You\\'re welcome!', 'No problem, happy to help!', 'Anytime!']\n",
    "}\n"
   ]
  },
  {
   "cell_type": "markdown",
   "metadata": {
    "id": "iEeRVfHrUiLb"
   },
   "source": [
    "# **Step 3: Define Chatbot Function**"
   ]
  },
  {
   "cell_type": "code",
   "execution_count": 3,
   "metadata": {
    "id": "vEtRBCoQUuBh"
   },
   "outputs": [],
   "source": [
    "# Define chatbot function\n",
    "def simple_chatbot(user_input):\n",
    "    # Matching user input with predefined rules (case-insensitive)\n",
    "    for pattern, responses in rules.items():\n",
    "        if re.match(pattern, user_input, re.IGNORECASE):\n",
    "            return responses\n",
    "\n",
    "    # Default response if no match is found\n",
    "    return ['I\\'m sorry, I didn\\'t understand that. Can you please rephrase?', 'I didn\\'t get that. Can you try again?', 'I\\'m not sure what you mean.']\n"
   ]
  },
  {
   "cell_type": "markdown",
   "metadata": {
    "id": "3W6oygZ9UmUu"
   },
   "source": [
    "# **Step 4: Interactive Conversation Function and Conversation Loop**"
   ]
  },
  {
   "cell_type": "code",
   "execution_count": null,
   "metadata": {
    "colab": {
     "base_uri": "https://localhost:8080/"
    },
    "id": "RL64oKIuUzcI",
    "outputId": "4ae2fb62-38ef-462d-f2d9-de7c34f234ff"
   },
   "outputs": [
    {
     "name": "stdout",
     "output_type": "stream",
     "text": [
      "Chatbot: Hi! How can I assist you today? (type 'exit' to end)\n"
     ]
    }
   ],
   "source": [
    "# Third Code Cell (Interactive Conversation Function and Conversation Loop):\n",
    "def interactive_conversation():\n",
    "    print(\"Chatbot: Hi! How can I assist you today? (type 'exit' to end)\")\n",
    "\n",
    "    while True:\n",
    "        user_input = input(\"You: \")\n",
    "        if user_input.lower() == 'exit':\n",
    "            print(\"Chatbot: Goodbye! Have a great day!\")\n",
    "            restart = input(\"Chatbot: If you want to chat again, type 'start'. If you want to exit, type 'exit'.\\nYou: \")\n",
    "            if restart.lower() == 'start':\n",
    "                print(\"Chatbot: Let's start again!\")\n",
    "            elif restart.lower() == 'exit':\n",
    "                print(\"Chatbot: Thank you for chatting with me! I hope I was able to assist you. Have a great day!\")\n",
    "                break\n",
    "            else:\n",
    "                print(\"Chatbot: I'm sorry, I didn't understand that. Please type 'start' to chat again or 'exit' to end.\")\n",
    "        else:\n",
    "            response = simple_chatbot(user_input)\n",
    "            print(\"Chatbot:\", response[0])\n",
    "\n",
    "# Call the interactive conversation function to start chatting\n",
    "interactive_conversation()\n",
    "\n"
   ]
  },
  {
   "cell_type": "markdown",
   "metadata": {
    "id": "Czq5nINCAurI"
   },
   "source": [
    "# Conclusion:\n",
    "In conclusion, this project provided a hands-on experience in building a basic chatbot using rule-based techniques. By understanding user queries and providing relevant responses, this project enhances my understanding of natural language processing and conversation flow in the context of chatbots."
   ]
  }
 ],
 "metadata": {
  "colab": {
   "authorship_tag": "ABX9TyOeWoUN+/efIm230vmnw42d",
   "include_colab_link": true,
   "provenance": []
  },
  "kernelspec": {
   "display_name": "Python 3 (ipykernel)",
   "language": "python",
   "name": "python3"
  },
  "language_info": {
   "codemirror_mode": {
    "name": "ipython",
    "version": 3
   },
   "file_extension": ".py",
   "mimetype": "text/x-python",
   "name": "python",
   "nbconvert_exporter": "python",
   "pygments_lexer": "ipython3",
   "version": "3.11.7"
  }
 },
 "nbformat": 4,
 "nbformat_minor": 4
}
