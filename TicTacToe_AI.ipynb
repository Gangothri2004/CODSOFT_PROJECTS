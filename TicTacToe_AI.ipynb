{
 "cells": [
  {
   "cell_type": "markdown",
   "metadata": {
    "colab_type": "text",
    "id": "view-in-github"
   },
   "source": [
    "<a href=\"https://colab.research.google.com/github/virajbhutada/CODSOFT/blob/main/Codsoft_Task2_TicTacToe_AI_Colab.ipynb\" target=\"_parent\"><img src=\"https://colab.research.google.com/assets/colab-badge.svg\" alt=\"Open In Colab\"/></a>"
   ]
  },
  {
   "cell_type": "code",
   "execution_count": 1,
   "metadata": {
    "id": "OjzV3nMlDhm9"
   },
   "outputs": [],
   "source": [
    "import math\n",
    "\n",
    "board = ['-' for _ in range(9)]\n",
    "AI = 'O'\n",
    "YOU = 'X'\n"
   ]
  },
  {
   "cell_type": "markdown",
   "metadata": {
    "id": "hMuUrXb-HFXE"
   },
   "source": [
    "# **Displaying the Board**\n",
    "- The print_board function displays the current state of the Tic-Tac-Toe board."
   ]
  },
  {
   "cell_type": "code",
   "execution_count": 2,
   "metadata": {
    "id": "q3YkqPRsDs0r"
   },
   "outputs": [],
   "source": [
    "def print_board(board):\n",
    "    print(board[0] + '|' + board[1] + '|' + board[2])\n",
    "    print(board[3] + '|' + board[4] + '|' + board[5])\n",
    "    print(board[6] + '|' + board[7] + '|' + board[8])\n",
    "    print()\n"
   ]
  },
  {
   "cell_type": "markdown",
   "metadata": {
    "id": "oAvibFHmIGdM"
   },
   "source": [
    "# **Checking for a Winner**\n",
    "- The check_winner function is a placeholder where you need to implement the logic to check if a player has won the game."
   ]
  },
  {
   "cell_type": "code",
   "execution_count": 3,
   "metadata": {
    "id": "0Z9k1Ux9DyK6"
   },
   "outputs": [],
   "source": [
    def check_winner(board, player):
    # Check rows
    for row in board:
        if all(cell == player for cell in row):
            return True

    # Check columns
    for col in range(len(board)):
        if all(board[row][col] == player for row in range(len(board))):
            return True

    # Check diagonals
    if all(board[i][i] == player for i in range(len(board))):
        return True
    if all(board[i][len(board) - 1 - i] == player for i in range(len(board))):
        return True

    return False
   ]
  },
  {
   "cell_type": "markdown",
   "metadata": {
    "id": "bGls3HkWIan3"
   },
   "source": [
    "# **Checking for a Draw**\n",
    "- The is_board_full function is a placeholder where you need to implement the logic to check if the board is full, resulting in a draw."
   ]
  },
  {
   "cell_type": "code",
   "execution_count": 4,
   "metadata": {
    "id": "qbGuGIChDzbB"
   },
   "outputs": [],
   "source": [
    "def is_board_full(board):\n",
    "    # Function to check if the board is full (draw)\n",
    "    # Implement your logic here\n",
    "    pass\n"
   ]
  },
  {
   "cell_type": "markdown",
   "metadata": {
    "id": "HXnC-dZ5IlLV"
   },
   "source": [
    "# **Minimax Algorithm with Alpha-Beta Pruning**\n",
    "- The minimax_alpha_beta function contains the implementation of the Minimax algorithm with Alpha-Beta Pruning."
   ]
  },
  {
   "cell_type": "code",
   "execution_count": 5,
   "metadata": {
    "id": "UAzRFnuVD2m3"
   },
   "outputs": [],
   "source": [
    "def minimax_alpha_beta(board, depth, alpha, beta, maximizing_player):\n",
    "    # Minimax function with Alpha-Beta Pruning\n",
    "    # Implement your logic here\n",
    "    pass\n"
   ]
  },
  {
   "cell_type": "markdown",
   "metadata": {
    "id": "18GKVu-BIwQA"
   },
   "source": [
    "# **Finding the Best Move**\n",
    "-   The find_best_move function uses the Minimax algorithm with Alpha-Beta Pruning to find the best move for the AI player."
   ]
  },
  {
   "cell_type": "code",
   "execution_count": 6,
   "metadata": {
    "id": "8sV8UF2KD6Gf"
   },
   "outputs": [],
   "source": [
    "def find_best_move(board):\n",
    "    best_move = None\n",
    "    best_eval = -math.inf\n",
    "\n",
    "    for i in range(9):\n",
    "        if board[i] == '-':\n",
    "            board[i] = AI\n",
    "            eval = minimax_alpha_beta(board, 0, -math.inf, math.inf, False)\n",
    "            board[i] = '-'\n",
    "            if eval is not None and eval > best_eval:\n",
    "                best_eval = eval\n",
    "                best_move = i\n",
    "\n",
    "    if best_move is None:\n",
    "        for i in range(9):\n",
    "            if board[i] == '-':\n",
    "                return i\n",
    "\n",
    "    return best_move\n"
   ]
  },
  {
   "cell_type": "markdown",
   "metadata": {
    "id": "VtXic5hxI9ea"
   },
   "source": [
    "# **Game Loop**\n",
    "- The game loop continuously takes input from the player and the AI, updating the board and checking for a win or a draw condition."
   ]
  },
  {
   "cell_type": "markdown",
   "metadata": {
    "colab": {
     "base_uri": "https://localhost:8080/"
    },
    "id": "eNpZFkhdD_Y_",
    "outputId": "fe714342-f3fd-451b-b4a2-29bb9130a97c"
   },
   "source": [
    "### while True:\n",
    "    # Print the current board\n",
    "    print_board(board)\n",
    "\n",
    "    # Player's move\n",
    "    move = int(input(\"Your move (0-9): \"))\n",
    "\n",
    "    if 0 <= move <= 8 and board[move] == '-':\n",
    "        board[move] = YOU\n",
    "\n",
    "        # Check for winner or draw, and handle game end conditions\n",
    "        # Implement your logic here\n",
    "\n",
    "        # AI's move\n",
    "        ai_move = find_best_move(board)\n",
    "        board[ai_move] = AI\n",
    "\n",
    "        # Check for winner or draw, and handle game end conditions\n",
    "        # Implement your logic here\n",
    "    else:\n",
    "        print(\"Invalid move. Try again.\")\n"
   ]
  },
  {
   "cell_type": "code",
   "execution_count": null,
   "metadata": {},
   "outputs": [],
   "source": []
  }
 ],
 "metadata": {
  "colab": {
   "authorship_tag": "ABX9TyP65qHVRMM0j/L0AWJTm6Zb",
   "include_colab_link": true,
   "provenance": []
  },
  "kernelspec": {
   "display_name": "Python 3 (ipykernel)",
   "language": "python",
   "name": "python3"
  },
  "language_info": {
   "codemirror_mode": {
    "name": "ipython",
    "version": 3
   },
   "file_extension": ".py",
   "mimetype": "text/x-python",
   "name": "python",
   "nbconvert_exporter": "python",
   "pygments_lexer": "ipython3",
   "version": "3.11.7"
  }
 },
 "nbformat": 4,
 "nbformat_minor": 4
}
